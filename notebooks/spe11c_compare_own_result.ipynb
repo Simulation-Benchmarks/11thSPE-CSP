{
 "cells": [
  {
   "cell_type": "markdown",
   "id": "1f72221e-a450-4c16-8117-a3856119188e",
   "metadata": {},
   "source": [
    "# Compare your own result for CSP 11C\n",
    "\n",
    "Start by uploading a result for CSP 11C, using the icons \"add folder\" and \"upload file\" on the left.\n",
    "Be sure to stick to the formatting requirements outlined in the\n",
    "[CSP description](https://doi.org/10.2118/218015-PA), p.2514ff.\n",
    "\n",
    "You can check the formatting of your result files by"
   ]
  },
  {
   "cell_type": "code",
   "execution_count": null,
   "id": "710f8512-7ba0-4f92-b5fd-e1de87bf880d",
   "metadata": {
    "tags": []
   },
   "outputs": [],
   "source": [
    "%run ../evaluation/check_format -c C -f ~/shared_folder/data/slb/spe11c"
   ]
  },
  {
   "cell_type": "markdown",
   "id": "0041639e-3f52-4823-b200-aa1510281a0d",
   "metadata": {},
   "source": [
    "where you have to set the folder containing your result files with the `-f` option.\n",
    "\n",
    "## Sparse data\n",
    "\n",
    "### Comparison against the spread of submitted results\n",
    "\n",
    "Compare your sparse data against the spread between given percentiles by"
   ]
  },
  {
   "cell_type": "code",
   "execution_count": null,
   "id": "06b77172-6d03-4d5c-b15d-c7d45bf3c5ad",
   "metadata": {
    "tags": []
   },
   "outputs": [],
   "source": [
    "%matplotlib inline\n",
    "%run ../evaluation/spe11c_assemble_time_series \\\n",
    "-t ~/shared_folder/evaluation/spe11c/sparse \\\n",
    "-g 'my result' -gf ~/shared_folder/data/tetratech/spe11c/result1 \\\n",
    "-p 10 90"
   ]
  },
  {
   "cell_type": "markdown",
   "id": "754be440-22b4-46cf-8a72-69714db10adb",
   "metadata": {},
   "source": [
    "where you have to adapt the folder behind the `-gf` option to point to the one containing your file `spe11c_time_series.csv`. With the `-p` option, you can specifiy the lower and upper percentile to compare against."
   ]
  }
 ],
 "metadata": {
  "kernelspec": {
   "display_name": "Python 3 (ipykernel)",
   "language": "python",
   "name": "python3"
  },
  "language_info": {
   "codemirror_mode": {
    "name": "ipython",
    "version": 3
   },
   "file_extension": ".py",
   "mimetype": "text/x-python",
   "name": "python",
   "nbconvert_exporter": "python",
   "pygments_lexer": "ipython3",
   "version": "3.11.6"
  }
 },
 "nbformat": 4,
 "nbformat_minor": 5
}
