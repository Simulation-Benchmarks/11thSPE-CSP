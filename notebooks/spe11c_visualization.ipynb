{
 "cells": [
  {
   "cell_type": "markdown",
   "id": "cc6b9c31-91f3-4278-ae24-498848c2ee4a",
   "metadata": {},
   "source": [
    "# Visualization for CSP 11C\n",
    "\n",
    "Available results: `Calgary CAU-Kiel CSIRO CTC-CNE GEOS1 GEOS2 IFPEN OpenGoSim1 OpenGoSim2 OPM1 OPM2 OPM3 OPM4 Pau-Inria PFLOTRAN SINTEF1 SINTEF2 SINTEF3 SLB  TetraTech1 TetraTech2 UT-CSEE`.\n",
    "\n",
    "## Sparse data\n",
    "\n",
    "Run the visualization of the sparse data for selected results.\n",
    "With the `-g` option, sparse data are selected as submitted by the respective\n",
    "participants, where `-f` specifies the corresponding folder for all results.\n",
    "Alternatively, the `-c` option takes, for selected quantities, values\n",
    "post-processed from the submitted dense data that reside in the folder\n",
    "specified by `-t`."
   ]
  },
  {
   "cell_type": "code",
   "execution_count": null,
   "id": "4e9c835a-7d5e-4003-a6e3-961df93f55d7",
   "metadata": {
    "tags": []
   },
   "outputs": [],
   "source": [
    "%matplotlib inline\n",
    "%run ../evaluation/spe11c_assemble_time_series \\\n",
    "-g CAU-Kiel CSIRO GEOS1 GEOS2 IFPEN OPM1 OPM2 OPM3 OPM4 Pau-Inria \\\n",
    "   PFLOTRAN SINTEF1 SINTEF2 SINTEF3 SLB TetraTech1 TetraTech2 UT-CSEE \\\n",
    "-f ~/shared_folder/data \\\n",
    "-c Calgary CTC-CNE OpenGoSim1 OpenGoSim2 \\\n",
    "-t ~/shared_folder/evaluation/spe11c/sparse"
   ]
  },
  {
   "cell_type": "markdown",
   "id": "01655635-3c39-4eb4-9707-6dd5188f2444",
   "metadata": {},
   "source": [
    "## Dense data\n",
    "\n",
    "### Single result\n",
    "\n",
    "Run the visualization of the dense data for a single result at a given time. With the `-g` option, the result is selected, `-f` specifies the corresponding folder, and `-t` gives the time in years."
   ]
  },
  {
   "cell_type": "code",
   "execution_count": null,
   "id": "445f930a-a3c8-45ab-a115-63be0279fb46",
   "metadata": {
    "tags": []
   },
   "outputs": [],
   "source": [
    "%matplotlib inline\n",
    "%run ../evaluation/spe11c_visualize_spatial_maps -g SLB -f ~/shared_folder/data -t 500"
   ]
  },
  {
   "cell_type": "markdown",
   "id": "f312c732-f047-4cce-bfc1-cad95141d581",
   "metadata": {},
   "source": [
    "### Multiple results\n",
    "\n",
    "Run the visualization of the dense data for several results at a given time. With the `-g` option, the results are selected, `-f` specifies the corresponding folder for all results, and `-t` gives the time in years."
   ]
  },
  {
   "cell_type": "code",
   "execution_count": null,
   "id": "698aad2b-8698-4382-9db8-2ab3c83bcd3c",
   "metadata": {
    "tags": []
   },
   "outputs": [],
   "source": [
    "%matplotlib inline\n",
    "%run ../evaluation/spe11c_visualize_spatial_maps \\\n",
    "-g Calgary CAU-Kiel CSIRO CTC-CNE GEOS1 GEOS2 IFPEN OpenGoSim1 \\\n",
    "   OpenGoSim2 OPM1 OPM2 OPM3 OPM4 Pau-Inria PFLOTRAN SINTEF1 \\\n",
    "   SINTEF2 SINTEF3 SLB TetraTech1 TetraTech2 UT-CSEE \\\n",
    "-f ~/shared_folder/data \\\n",
    "-t 500"
   ]
  },
  {
   "cell_type": "markdown",
   "id": "21353426-4483-4f4a-b7fb-614aa531a47d",
   "metadata": {},
   "source": [
    "## Performance data\n",
    "\n",
    "### Sparse\n",
    "\n",
    "Generate plots for the submitted sparse performance data."
   ]
  },
  {
   "cell_type": "code",
   "execution_count": null,
   "id": "4e2621cf-34c4-4e5f-8a38-30b7dce56a9e",
   "metadata": {
    "tags": []
   },
   "outputs": [],
   "source": [
    "%matplotlib inline\n",
    "%run ../evaluation/spe11c_assemble_performance_time_series \\\n",
    "-g CAU-Kiel CSIRO CTC-CNE IFPEN OPM1 OPM2 \\\n",
    "   OPM3 OPM4 Pau-Inria TetraTech2 UT-CSEE \\\n",
    "-f ~/shared_folder/data"
   ]
  },
  {
   "cell_type": "markdown",
   "id": "f9ca1aaf-0ce0-4d9f-8000-cbc22738dad2",
   "metadata": {},
   "source": [
    "Generate plots for the submitted *detailed* sparse performance data (note the option `-d`)."
   ]
  },
  {
   "cell_type": "code",
   "execution_count": null,
   "id": "a9212dcb-deef-45fd-b9c3-265bbb101c1a",
   "metadata": {
    "tags": []
   },
   "outputs": [],
   "source": [
    "%matplotlib inline\n",
    "%run ../evaluation/spe11c_assemble_performance_time_series \\\n",
    "-g CAU-Kiel CSIRO IFPEN SINTEF1 SINTEF2 SINTEF3 \\\n",
    "-f ~/shared_folder/data -d"
   ]
  }
 ],
 "metadata": {
  "kernelspec": {
   "display_name": "Python 3 (ipykernel)",
   "language": "python",
   "name": "python3"
  },
  "language_info": {
   "codemirror_mode": {
    "name": "ipython",
    "version": 3
   },
   "file_extension": ".py",
   "mimetype": "text/x-python",
   "name": "python",
   "nbconvert_exporter": "python",
   "pygments_lexer": "ipython3",
   "version": "3.10.12"
  }
 },
 "nbformat": 4,
 "nbformat_minor": 5
}
