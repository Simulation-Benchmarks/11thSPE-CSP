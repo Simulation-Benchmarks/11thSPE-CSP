{
 "cells": [
  {
   "cell_type": "markdown",
   "metadata": {},
   "source": [
    "# Data analysis for CSP 11B\n",
    "\n",
    "Available results: `Calgary CAU-Kiel CSIRO CTC-CNE DARTS GEOS1 GEOS2 IFPEN1 IFPEN2 KFUPM OpenGoSim1 OpenGoSim2 OpenGoSim3 OPM1 OPM2 OPM3 OPM4 Pau-Inria PFLOTRAN Rice1 Rice2 SINTEF1 SINTEF2 SINTEF3 SINTEF4 SLB Stuttgart1 Stuttgart2 Stuttgart3 Stuttgart4 TetraTech1 TetraTech2 UT-CSEE1 UT-CSEE2`."
   ]
  },
  {
   "cell_type": "markdown",
   "metadata": {},
   "source": [
    "## Computing the SPE11 distance\n",
    "\n",
    "Run the data analysis and compute the SPE11 distance between all selected results.\n",
    "With the `-g` option, sparse data are selected as submitted by the respective\n",
    "participants, where `-f` specifies the corresponding folder for all results.\n",
    "Alternatively, the `-c` options take, for selected quantities, values\n",
    "post-processed from the submitted dense data that reside in the folder\n",
    "specified by `-t`, particularly, `-cAB` related to Boxes A and B (imm/mob data),\n",
    "`-cSealA` and `-cSealB` separately for Boxes A and B (seal data), `-cC` related to Box C.\n",
    "\n",
    "The results can be displayed and stored in the output folder, defined by the `-o` option. This includes a distance matrix which will be used for further detailed analysis below."
   ]
  },
  {
   "cell_type": "code",
   "execution_count": null,
   "metadata": {},
   "outputs": [],
   "source": [
    "%matplotlib inline\n",
    "%run ../analysis/compute_spe11_distance.py \\\n",
    "-v spe11b \\\n",
    "-f ../shared_folder/data/spe11b \\\n",
    "-t ../shared_folder/evaluation \\\n",
    "-o output/spe11b \\\n",
    "-g Calgary CAU-Kiel CSIRO CTC-CNE DARTS GEOS1 GEOS2 \\\n",
    "   IFPEN1 IFPEN2 KFUPM OpenGoSim1 OpenGoSim2 OpenGoSim3 \\\n",
    "   OPM1 OPM2 OPM3 OPM4 Pau-Inria PFLOTRAN Rice1 Rice2 SINTEF1 \\\n",
    "   SINTEF2 SINTEF3 SINTEF4 SLB Stuttgart1 Stuttgart2 Stuttgart3 \\\n",
    "   Stuttgart4 TetraTech1 TetraTech2 UT-CSEE1 UT-CSEE2 \\\n",
    "-cAB Calgary CTC-CNE OpenGoSim1 OpenGoSim2 OpenGoSim3 \\\n",
    "-cC Calgary CAU-Kiel CTC-CNE PFLOTRAN SINTEF1 SINTEF2 SINTEF3 SINTEF4 \\\n",
    "    SLB Stuttgart1 Stuttgart2 Stuttgart3 Stuttgart4 \\\n",
    "-cSealA PFLOTRAN \\\n",
    "-cSealB PFLOTRAN \\\n",
    "-cBCO2 Pau-Inria PFLOTRAN"
   ]
  },
  {
   "cell_type": "markdown",
   "metadata": {},
   "source": [
    "## Inspecting the distance matrix\n",
    "The above computation has stored the distance matrix to file `output/spe11b/spe11b_distance_matrix.csv`. We can fetch and display it."
   ]
  },
  {
   "cell_type": "code",
   "execution_count": null,
   "metadata": {},
   "outputs": [],
   "source": [
    "import pandas as pd\n",
    "df = pd.read_csv('output/spe11b/spe11b_distance_matrix.csv', index_col=0)\n",
    "\n",
    "# Uncomment for a quick look at the distance matrix\n",
    "#df"
   ]
  },
  {
   "cell_type": "markdown",
   "metadata": {},
   "source": [
    "The script `analyze_distance_matrix` loads the computed SPE11 distance matrix and allows for further inspection, including visualization, extracting values, minimal distances.\n",
    "\n",
    "We start with visualizing the full distance matrix. For this, provide the option `-option show-distance-matrix`."
   ]
  },
  {
   "cell_type": "code",
   "execution_count": null,
   "metadata": {},
   "outputs": [],
   "source": [
    "%run ../analysis/analyze_distance_matrix.py \\\n",
    "-option show-distance-matrix \\\n",
    "-v spe11b \\\n",
    "-o output/spe11b"
   ]
  },
  {
   "cell_type": "markdown",
   "metadata": {},
   "source": [
    "The respective image of the distance matrix is printed to file `output/spe11b/spe11b_distance_matrix.png`.\n",
    "\n",
    "By specifying single groups through `-g`, one can extract a subset of the distance matrix for closer inspection.  NOTE: The next code block overwrites the image."
   ]
  },
  {
   "cell_type": "code",
   "execution_count": null,
   "metadata": {},
   "outputs": [],
   "source": [
    "# %run ../analysis/analyze_distance_matrix.py \\\n",
    "#-option show-distance-matrix \\\n",
    "#-v spe11b \\\n",
    "#-o output/spe11b \\\n",
    "#-g IFPEN1 OPM4 SINTEF2 Rice2"
   ]
  },
  {
   "cell_type": "markdown",
   "metadata": {},
   "source": [
    "## Extracting single distances\n",
    "We can extract single pairwise distances through the option `-option print-distances` together with a selection of groups thorugh `-g`. \n",
    "\n",
    "### Example analysis - same groups using different simulators\n",
    "We can inspect the distances between the different submissions from same groups using different simulator (TetraTech and UT-CSEE)."
   ]
  },
  {
   "cell_type": "code",
   "execution_count": null,
   "metadata": {},
   "outputs": [],
   "source": [
    "%run ../analysis/analyze_distance_matrix.py \\\n",
    "-option print-distances \\\n",
    "-v spe11b \\\n",
    "-o output/spe11b \\\n",
    "-g TetraTech1 TetraTech2 UT-CSEE1 UT-CSEE2"
   ]
  },
  {
   "cell_type": "markdown",
   "metadata": {},
   "source": [
    "### Partition in subgroups - different groups using same simulators\n",
    "By the repeated use of `-g`, we can also specify a partitioning and only ask for the comparison within these groupings.\n",
    "\n",
    "As an example we analyze the base case submissions based on DuMuX  (`Pau-Inria` and `Stuttgart1`) as well as those based on SLB-IX (`CTC-CNE`, `SLB`, `UT-CSEE1`)."
   ]
  },
  {
   "cell_type": "code",
   "execution_count": null,
   "metadata": {},
   "outputs": [],
   "source": [
    "%run ../analysis/analyze_distance_matrix.py \\\n",
    "-option print-distances \\\n",
    "-v spe11b \\\n",
    "-o output/spe11b \\\n",
    "-g Pau-Inria Stuttgart1 \\\n",
    "-g CTC-CNE SLB UT-CSEE1"
   ]
  },
  {
   "cell_type": "markdown",
   "metadata": {},
   "source": [
    "## Medians and correlations\n",
    "The SPE11 distance uses scalings for each considered reporting quantity. It is essentially based on a median value of the distances of each type of quantity. Then the total SPE11 distance agglomerates the single distances, resulting in the natural question how well the single distances correlate to the global distance. The Pearson correlation coefficient (PCC) offers a quantitative measure. As part of the computation of the SPE11 distance, these statistics are recorded in the output folder as `spe11b_statistics.csv`"
   ]
  },
  {
   "cell_type": "code",
   "execution_count": null,
   "metadata": {},
   "outputs": [],
   "source": [
    "import pandas as pd\n",
    "df = pd.read_csv('output/spe11b/spe11b_statistics.csv')\n",
    "df"
   ]
  },
  {
   "cell_type": "markdown",
   "metadata": {},
   "source": [
    "## Visualization of clustering\n",
    "The distance matrix provides means for linkage clustering vilsualized by a dendrogram. Using the option `-option show-clustering` the dendrogram is displayed and stored to file."
   ]
  },
  {
   "cell_type": "code",
   "execution_count": null,
   "metadata": {},
   "outputs": [],
   "source": [
    "%run ../analysis/analyze_distance_matrix.py \\\n",
    "-option show-clustering \\\n",
    "-v spe11b \\\n",
    "-o output/spe11b"
   ]
  },
  {
   "cell_type": "markdown",
   "metadata": {},
   "source": [
    "# Finding the smallest mean distance (median result)\n",
    "We define the median submission to be the submission with lowest average mean to all other submissions. For this we call the script `analyze_distance_matrix` and specify the option `-option find-min-mean-distance`. We can make a selection of groups selected for the analysis using `-g`."
   ]
  },
  {
   "cell_type": "code",
   "execution_count": null,
   "metadata": {},
   "outputs": [],
   "source": [
    "%run ../analysis/analyze_distance_matrix.py \\\n",
    "-option find-min-mean-distance \\\n",
    "-v spe11b \\\n",
    "-o output/spe11b \\\n",
    "-g Calgary CAU-Kiel CSIRO CTC-CNE DARTS GEOS1 GEOS2 \\\n",
    "   IFPEN1 IFPEN2 KFUPM OpenGoSim1 OpenGoSim2 OpenGoSim3 \\\n",
    "   OPM1 OPM2 OPM3 OPM4 Pau-Inria PFLOTRAN Rice1 Rice2 SINTEF1 \\\n",
    "   SINTEF2 SINTEF3 SINTEF4 SLB Stuttgart1 Stuttgart2 Stuttgart3 \\\n",
    "   Stuttgart4 TetraTech1 TetraTech2 UT-CSEE1 UT-CSEE2"
   ]
  },
  {
   "cell_type": "markdown",
   "metadata": {},
   "source": [
    "## Finding the smallest pair-wise distance\n",
    "By using the option `-option find-min-distance`, we can search for the smallest distance between two distinct submissions among the provided groups. Again, we can restrict the analysis to a subset using `-g`."
   ]
  },
  {
   "cell_type": "code",
   "execution_count": null,
   "metadata": {},
   "outputs": [],
   "source": [
    "%run ../analysis/analyze_distance_matrix.py \\\n",
    "-option find-min-distance \\\n",
    "-v spe11b \\\n",
    "-o output/spe11b \\\n",
    "-g Calgary CAU-Kiel CSIRO CTC-CNE DARTS GEOS1 GEOS2 \\\n",
    "   IFPEN1 IFPEN2 KFUPM OpenGoSim1 OpenGoSim2 OpenGoSim3 \\\n",
    "   OPM1 OPM2 OPM3 OPM4 Pau-Inria PFLOTRAN Rice1 Rice2 SINTEF1 \\\n",
    "   SINTEF2 SINTEF3 SINTEF4 SLB Stuttgart1 Stuttgart2 Stuttgart3 \\\n",
    "   Stuttgart4 TetraTech1 TetraTech2 UT-CSEE1 UT-CSEE2"
   ]
  },
  {
   "cell_type": "markdown",
   "metadata": {},
   "source": [
    "## Finding the smallest group-wise distance\n",
    "By adding multiple groups through repeated use of `-g`, one introduces a collection of subgroups. For the option `-option find-min-distance`, the use of multiple subgroups, allows for excluding group-intern comparisons within the single selections. Using this, one can analyze e.g. the smallest distance between submissions from different groups."
   ]
  },
  {
   "cell_type": "code",
   "execution_count": null,
   "metadata": {},
   "outputs": [],
   "source": [
    "%run ../analysis/analyze_distance_matrix.py \\\n",
    "-option find-min-distance \\\n",
    "-v spe11b \\\n",
    "-o output/spe11b \\\n",
    "-g Calgary \\\n",
    "-g CAU-Kiel \\\n",
    "-g CSIRO \\\n",
    "-g CTC-CNE \\\n",
    "-g DARTS \\\n",
    "-g GEOS1 GEOS2 \\\n",
    "-g IFPEN1 IFPEN2 \\\n",
    "-g KFUPM \\\n",
    "-g OpenGoSim1 OpenGoSim2 OpenGoSim3 \\\n",
    "-g OPM1 OPM2 OPM3 OPM4 \\\n",
    "-g Pau-Inria \\\n",
    "-g PFLOTRAN \\\n",
    "-g Rice1 Rice2 \\\n",
    "-g SINTEF1 SINTEF2 SINTEF3 SINTEF4 \\\n",
    "-g SLB \\\n",
    "-g Stuttgart1 Stuttgart2 Stuttgart3 Stuttgart4 \\\n",
    "-g TetraTech1 TetraTech2 \\\n",
    "-g UT-CSEE1 UT-CSEE2"
   ]
  },
  {
   "cell_type": "markdown",
   "metadata": {},
   "source": [
    "# Variability analysis (all submissions)\n",
    "\n",
    "We can compute the variability in a single group. For this, we specify the group through `-g`. For example, we can compute the overall variability."
   ]
  },
  {
   "cell_type": "code",
   "execution_count": null,
   "metadata": {},
   "outputs": [],
   "source": [
    "%run ../analysis/variability_analysis.py \\\n",
    "-v spe11b \\\n",
    "-o output/spe11b \\\n",
    "-g Calgary CAU-Kiel CSIRO CTC-CNE DARTS GEOS1 GEOS2 \\\n",
    "   IFPEN1 IFPEN2 KFUPM OpenGoSim1 OpenGoSim2 OpenGoSim3 \\\n",
    "   OPM1 OPM2 OPM3 OPM4 Pau-Inria PFLOTRAN Rice1 Rice2 SINTEF1 \\\n",
    "   SINTEF2 SINTEF3 SINTEF4 SLB Stuttgart1 Stuttgart2 Stuttgart3 \\\n",
    "   Stuttgart4 TetraTech1 TetraTech2 UT-CSEE1 UT-CSEE2"
   ]
  },
  {
   "cell_type": "markdown",
   "metadata": {},
   "source": [
    "Similarly, we can ask for the baseline variability. For this, we need to specify the baseline group as input. For SPE11B, these are `Calgary`, `CSIRO`, `CTC-CNE`, `GEOS1`, `IFPEN1`, `KFUPM`, `OpenGoSim1`, `OPM1`, `Pau-Inria`, `PFLOTRAN`, `SLB`, `Stuttgart1`, `Tetratech1`, `Tetratech2`, `UT-CSEE1`, `UT-CSEE2`."
   ]
  },
  {
   "cell_type": "code",
   "execution_count": null,
   "metadata": {},
   "outputs": [],
   "source": [
    "%run ../analysis/variability_analysis.py \\\n",
    "-v spe11b \\\n",
    "-o output/spe11b \\\n",
    "-g Calgary CSIRO CTC-CNE GEOS1 IFPEN1 KFUPM OPM1 OpenGoSim1 Pau-Inria \\\n",
    "PFLOTRAN SLB Stuttgart1 TetraTech1 TetraTech2 UT-CSEE1 UT-CSEE2"
   ]
  },
  {
   "cell_type": "markdown",
   "metadata": {},
   "source": [
    "# Statistical analysis (comparison of variability)\n",
    "\n",
    "## Baseline variability vs. overall variability\n",
    "\n",
    "We can compute p-values of null-hypotheses comparing the variability of two groups, quantifying the statistical significance. E.g. we analyze whether the base case group has smaller variability than the overall variability. For this, we specify `-g-smaller` and `g-greater`, here being the base case group and all groups, respectively. "
   ]
  },
  {
   "cell_type": "code",
   "execution_count": null,
   "metadata": {},
   "outputs": [],
   "source": [
    "%run ../analysis/variability_analysis.py \\\n",
    "-v spe11b \\\n",
    "-o output/spe11b \\\n",
    "-g-smaller Calgary CSIRO CTC-CNE GEOS1 IFPEN1 KFUPM OPM1 OpenGoSim1 Pau-Inria PFLOTRAN SLB Stuttgart1 \\\n",
    "TetraTech1 TetraTech2 UT-CSEE1 UT-CSEE2 \\\n",
    "-g-greater Calgary CAU-Kiel CSIRO CTC-CNE DARTS GEOS1 GEOS2 \\\n",
    "   IFPEN1 IFPEN2 KFUPM OpenGoSim1 OpenGoSim2 OpenGoSim3 \\\n",
    "   OPM1 OPM2 OPM3 OPM4 Pau-Inria PFLOTRAN Rice1 Rice2 SINTEF1 \\\n",
    "   SINTEF2 SINTEF3 SINTEF4 SLB Stuttgart1 Stuttgart2 Stuttgart3 \\\n",
    "   Stuttgart4 TetraTech1 TetraTech2 UT-CSEE1 UT-CSEE2"
   ]
  },
  {
   "cell_type": "markdown",
   "metadata": {},
   "source": [
    "## Commercial vs. academic/open-source simulators\n",
    "Similarly, we can copute the p-value of the comparison of commercial and academic/open-source against all base case groups. \n",
    "\n",
    "The commercial group is given by: `CTC-CNE`, `KFUPM`, `SLB`, `TetraTech2`, `UT-CSEE1`, `UT-CSEE2`."
   ]
  },
  {
   "cell_type": "code",
   "execution_count": null,
   "metadata": {},
   "outputs": [],
   "source": [
    "%run ../analysis/variability_analysis.py \\\n",
    "-v spe11b \\\n",
    "-o output/spe11b \\\n",
    "-g-smaller CTC-CNE KFUPM SLB TetraTech2 UT-CSEE1 UT-CSEE2 \\\n",
    "-g-greater Calgary CSIRO CTC-CNE GEOS1 \\\n",
    "   IFPEN1 KFUPM OpenGoSim1 \\\n",
    "   OPM1 Pau-Inria PFLOTRAN \\\n",
    "   SLB Stuttgart1 \\\n",
    "   TetraTech1 TetraTech2 UT-CSEE1 UT-CSEE2"
   ]
  },
  {
   "cell_type": "markdown",
   "metadata": {},
   "source": [
    "The academic/open-source group is given by: `Calgary`, `CSIRO`, `GEOS1`, `IFPEN1`, `OpenGoSim1`, `OPM1`, `Pau-Inria`, `PFLOTRAN`, `Stuttgart1`, `TetraTech1`."
   ]
  },
  {
   "cell_type": "code",
   "execution_count": null,
   "metadata": {},
   "outputs": [],
   "source": [
    "%run ../analysis/variability_analysis.py \\\n",
    "-v spe11b \\\n",
    "-o output/spe11b \\\n",
    "-g-smaller Calgary CSIRO GEOS1 IFPEN1 OpenGoSim1 \\\n",
    "   OPM1 Pau-Inria PFLOTRAN Stuttgart1 TetraTech1 \\\n",
    "-g-greater Calgary CSIRO CTC-CNE GEOS1 \\\n",
    "   IFPEN1  KFUPM OpenGoSim1 \\\n",
    "   OPM1 Pau-Inria PFLOTRAN \\\n",
    "   SLB Stuttgart1 \\\n",
    "   TetraTech1 TetraTech2 UT-CSEE1 UT-CSEE2"
   ]
  },
  {
   "cell_type": "markdown",
   "metadata": {},
   "source": [
    "Thus, we conclude statistical significance for that the academic simulators show a lower variability than the baseline variability.\n",
    "\n",
    "# Multiple subsets\n",
    "\n",
    "We can use the same tools to analyze variability differences for multiple subsets. By multiple use of `-g`, subsets of groups can be defined to consider only their pair-wise distances, still merged with other pair-wise distances. \n",
    "\n",
    "### Example analysis: Same groups using different simulators\n",
    "This allows to a fine-grained analysis asking, e.g., to analyze the variability in the submissions from same groups but using different simulators. `TetraTech1` and `TetraTech2`, as well as `UT-CSEE1` and `UT-CSEE2` use different simulators. Only their internal distances are of interest."
   ]
  },
  {
   "cell_type": "code",
   "execution_count": null,
   "metadata": {},
   "outputs": [],
   "source": [
    "%run ../analysis/variability_analysis.py \\\n",
    "-v spe11b \\\n",
    "-o output/spe11b \\\n",
    "-g TetraTech1 TetraTech2 \\\n",
    "-g UT-CSEE1 UT-CSEE2"
   ]
  },
  {
   "cell_type": "markdown",
   "metadata": {},
   "source": [
    "Similarly, multi-level groups can be provided for variability comparisons. We can for instance compare the group-intern variability of `TetraTech` and `UT-CSEE` against all base case submissions."
   ]
  },
  {
   "cell_type": "code",
   "execution_count": null,
   "metadata": {},
   "outputs": [],
   "source": [
    "%run ../analysis/variability_analysis.py \\\n",
    "-v spe11b \\\n",
    "-o output/spe11b \\\n",
    "-g-smaller TetraTech1 TetraTech2 \\\n",
    "-g-smaller UT-CSEE1 UT-CSEE2 \\\n",
    "-g-greater Calgary CSIRO CTC-CNE GEOS1 \\\n",
    "   IFPEN1  KFUPM OpenGoSim1 \\\n",
    "   OPM1 Pau-Inria PFLOTRAN \\\n",
    "   SLB Stuttgart1 \\\n",
    "   TetraTech1 TetraTech2 UT-CSEE1 UT-CSEE2"
   ]
  },
  {
   "cell_type": "markdown",
   "metadata": {},
   "source": [
    "### Example analysis: Different groups using the same simulator\n",
    "We revist the analysis of the groups using the same simulators (DuMuX and SLB-IX), now in the light of a variability analysis."
   ]
  },
  {
   "cell_type": "code",
   "execution_count": null,
   "metadata": {},
   "outputs": [],
   "source": [
    "%run ../analysis/variability_analysis.py \\\n",
    "-v spe11b \\\n",
    "-o output/spe11b \\\n",
    "-g-smaller Pau-Inria Stuttgart1 \\\n",
    "-g-smaller CTC-CNE SLB UT-CSEE1 \\\n",
    "-g-greater Calgary CSIRO CTC-CNE GEOS1 \\\n",
    "   IFPEN1  KFUPM OpenGoSim1 \\\n",
    "   OPM1 Pau-Inria PFLOTRAN \\\n",
    "   SLB Stuttgart1 \\\n",
    "   TetraTech1 TetraTech2 UT-CSEE1 UT-CSEE2"
   ]
  },
  {
   "cell_type": "markdown",
   "metadata": {},
   "source": [
    "# Community-based mesh refinement study\n",
    "Various participants performed a group-intern mesh refinement study. The script `mesh_refinement_study.py` offers plotting functionality to investigate its impact. For this, the options `-g`, `-m`, `-l` allow for selecting submissions, inform on the used mesh size, and add a label for later plotting. Moreover, to put the study into context, the mean and margin of error, of a subset of these results can be highlighted through the option `-variability-analysis` followed by a list of respective labels, and `-reference-group` allows to add further information on the variability within some reference group.\n",
    "\n",
    "The groups `GEOS`, `IFPEN`, `OpenGoSim`, `OPM`, and `SINTEF` submitted results with consecutively refined meshes. We put their results in context to the subset of moderately refined meshes (all besides `OPM` which used strong refinement) and all base case submissions."
   ]
  },
  {
   "cell_type": "code",
   "execution_count": null,
   "metadata": {},
   "outputs": [],
   "source": [
    "%run ../analysis/mesh_refinement_study.py \\\n",
    "-v spe11b \\\n",
    "-o output/spe11b \\\n",
    "-g GEOS1 GEOS2 \\\n",
    "-m 100000 1600000 \\\n",
    "-l GEOS \\\n",
    "-g IFPEN1 IFPEN2 \\\n",
    "-m 100000 1600000 \\\n",
    "-l IFPEN \\\n",
    "-g OpenGoSim1 OpenGoSim2 OpenGoSim3 \\\n",
    "-m 100000 200000 1600000 \\\n",
    "-l OpenGoSim \\\n",
    "-g OPM1 OPM4 \\\n",
    "-m 100000 10000000 \\\n",
    "-l OPM \\\n",
    "-g SINTEF1 SINTEF3 \\\n",
    "-m 25000 100000 \\\n",
    "-l SINTEF \\\n",
    "-g SINTEF2 SINTEF4 \\\n",
    "-m 25000 100000 \\\n",
    "-l SINTEF \\\n",
    "-variability-analysis GEOS1 GEOS2 \\\n",
    "-variability-analysis IFPEN1 IFPEN2 \\\n",
    "-variability-analysis OpenGoSim1 OpenGoSim2 \\\n",
    "-variability-analysis SINTEF1 SINTEF3 \\\n",
    "-variability-analysis SINTEF2 SINTEF4 \\\n",
    "-reference-group Calgary CSIRO CTC-CNE GEOS1 IFPEN1 KFUPM OPM1 OpenGoSim1 \\\n",
    "Pau-Inria PFLOTRAN SLB Stuttgart1 TetraTech1 UT-CSEE1"
   ]
  },
  {
   "cell_type": "markdown",
   "metadata": {},
   "source": [
    "We zoom in on the strongest mesh refinement."
   ]
  },
  {
   "cell_type": "code",
   "execution_count": null,
   "metadata": {},
   "outputs": [],
   "source": [
    "%run ../analysis/analyze_distance_matrix.py \\\n",
    "-option print-distances \\\n",
    "-v spe11b \\\n",
    "-o output/spe11b \\\n",
    "-g OPM1 OPM4"
   ]
  },
  {
   "cell_type": "markdown",
   "metadata": {},
   "source": [
    "And conduct a variability analysis for all other moderate mesh refinements."
   ]
  },
  {
   "cell_type": "code",
   "execution_count": null,
   "metadata": {},
   "outputs": [],
   "source": [
    "%run ../analysis/variability_analysis.py \\\n",
    "-v spe11b \\\n",
    "-o output/spe11b \\\n",
    "-g-smaller GEOS1 GEOS2 \\\n",
    "-g-smaller IFPEN1 IFPEN2 \\\n",
    "-g-smaller OpenGoSim1 OpenGoSim2 \\\n",
    "-g-smaller OpenGoSim1 OpenGoSim3 \\\n",
    "-g-smaller OpenGoSim2 OpenGoSim3 \\\n",
    "-g-smaller SINTEF1 SINTEF3 \\\n",
    "-g-smaller SINTEF2 SINTEF4 \\\n",
    "-g-greater Calgary CSIRO CTC-CNE GEOS1 \\\n",
    "   IFPEN1  KFUPM OpenGoSim1 \\\n",
    "   OPM1 Pau-Inria PFLOTRAN \\\n",
    "   SLB Stuttgart1 \\\n",
    "   TetraTech1 TetraTech2 UT-CSEE1 UT-CSEE2"
   ]
  },
  {
   "cell_type": "markdown",
   "metadata": {},
   "source": [
    "Similarly we can analyze the variability among the 1.6M cell (refined) submissions in comparison to the base case submissions."
   ]
  },
  {
   "cell_type": "code",
   "execution_count": null,
   "metadata": {},
   "outputs": [],
   "source": [
    "%run ../analysis/variability_analysis.py \\\n",
    "-v spe11b \\\n",
    "-o output/spe11b \\\n",
    "-g-smaller GEOS2 IFPEN2 OpenGoSim3 \\\n",
    "-g-greater Calgary CSIRO CTC-CNE GEOS1 \\\n",
    "   IFPEN1  KFUPM OpenGoSim1 \\\n",
    "   OPM1 Pau-Inria PFLOTRAN \\\n",
    "   SLB Stuttgart1 \\\n",
    "   TetraTech1 TetraTech2 UT-CSEE1 UT-CSEE2"
   ]
  },
  {
   "cell_type": "markdown",
   "metadata": {},
   "source": [
    "## Group-intern comparison after refinement\n",
    "We compare the variability before and after refinement within the groups providing base case and refined submissions:"
   ]
  },
  {
   "cell_type": "code",
   "execution_count": null,
   "metadata": {},
   "outputs": [],
   "source": [
    "%run ../analysis/variability_analysis.py \\\n",
    "-v spe11b \\\n",
    "-o output/spe11b \\\n",
    "-g-smaller GEOS2 IFPEN2 OpenGoSim3 \\\n",
    "-g-greater GEOS1 IFPEN1 OpenGoSim1"
   ]
  }
 ],
 "metadata": {
  "kernelspec": {
   "display_name": "Python 3 (ipykernel)",
   "language": "python",
   "name": "python3"
  },
  "language_info": {
   "codemirror_mode": {
    "name": "ipython",
    "version": 3
   },
   "file_extension": ".py",
   "mimetype": "text/x-python",
   "name": "python",
   "nbconvert_exporter": "python",
   "pygments_lexer": "ipython3",
   "version": "3.10.16"
  }
 },
 "nbformat": 4,
 "nbformat_minor": 4
}
