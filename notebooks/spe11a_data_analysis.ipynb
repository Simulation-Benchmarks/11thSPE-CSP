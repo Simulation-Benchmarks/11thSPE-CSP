{
 "cells": [
  {
   "cell_type": "markdown",
   "metadata": {},
   "source": [
    "# Data analysis for CSP 11A\n",
    "\n",
    "Available results: `Calgary CAU-Kiel CSIRO1 CSIRO2 CTC-CNE GEOS1 GEOS2 IFPEN  OpenGoSim OPM1 OPM2 OPM3 OPM4 Pau-Inria PFLOTRAN SLB1 SLB2  TetraTech  UT-CSEE1 UT-CSEE2 UT-CSEE3`.\n",
    "\n",
    "## Computing the SPE11 distance\n",
    "\n",
    "Run the data analysis and compute the SPE11 distance between all selected results.\n",
    "With the `-g` option, sparse data are selected as submitted by the respective\n",
    "participants, where `-f` specifies the corresponding folder for all results.\n",
    "Alternatively, the `-c` options take, for selected quantities, values\n",
    "post-processed from the submitted dense data that reside in the folder\n",
    "specified by `-t`, particularly, `-cAB` related to Boxes A and B (imm/mob data),\n",
    "`-cSealA` and `-cSealB` separately for Boxes A and B (seal data), `-cC` related to Box C.\n",
    "\n",
    "The results can be displayed and stored in the output folder, defined by the `-o` option. This includes a distance matrix which will be used for further detailed analysis below."
   ]
  },
  {
   "cell_type": "code",
   "execution_count": null,
   "metadata": {},
   "outputs": [],
   "source": [
    "%matplotlib inline\n",
    "%run ../analysis/compute_spe11_distance.py \\\n",
    "-v spe11a \\\n",
    "-f ../shared_folder/data/spe11a \\\n",
    "-t ../shared_folder/evaluation \\\n",
    "-o output/spe11a \\\n",
    "-g Calgary CAU-Kiel CSIRO1 CSIRO2 CTC-CNE GEOS1 GEOS2 \\\n",
    "   IFPEN OpenGoSim OPM1 OPM2 OPM3 OPM4 Pau-Inria \\\n",
    "   PFLOTRAN SLB1 SLB2 TetraTech UT-CSEE1 UT-CSEE2 UT-CSEE3 \\\n",
    "-cAB Calgary CTC-CNE OpenGoSim \\\n",
    "-cSealA Pau-Inria PFLOTRAN \\\n",
    "-cSealB Calgary Pau-Inria PFLOTRAN \\\n",
    "-cC Calgary CAU-Kiel CTC-CNE Pau-Inria PFLOTRAN SLB1 SLB2"
   ]
  },
  {
   "cell_type": "markdown",
   "metadata": {},
   "source": [
    "## Inspecting the distance matrix\n",
    "The computation of the SPE11 distance has stored the distance matrix to file `output/spe11a/spe11a_distance_matrix.csv`. We can fetch and display it."
   ]
  },
  {
   "cell_type": "code",
   "execution_count": null,
   "metadata": {},
   "outputs": [],
   "source": [
    "import pandas as pd\n",
    "df = pd.read_csv('output/spe11a/spe11a_distance_matrix.csv', index_col=0)\n",
    "\n",
    "# Uncomment for a quick look at the distance matrix\n",
    "#df"
   ]
  },
  {
   "cell_type": "markdown",
   "metadata": {},
   "source": [
    "The script `analyze_distance_matrix` loads the computed SPE11 distance matrix and allows for further inspection, including visualization, extracting values, minimal distances.\n",
    "\n",
    "We start with visualizing the full distance matrix. For this, provide the option `-option show-distance-matrix`."
   ]
  },
  {
   "cell_type": "code",
   "execution_count": null,
   "metadata": {},
   "outputs": [],
   "source": [
    "%run ../analysis/analyze_distance_matrix.py \\\n",
    "-option show-distance-matrix \\\n",
    "-v spe11a \\\n",
    "-o output/spe11a"
   ]
  },
  {
   "cell_type": "markdown",
   "metadata": {},
   "source": [
    "The respective image of the distance matrix is printed to file `output/spe11a/spe11a_distance_matrix.png`.\n",
    "\n",
    "By specifying single groups through `-g`, one can extract a subset of the distance matrix for closer inspection.  NOTE: The next code block overwrites the image."
   ]
  },
  {
   "cell_type": "code",
   "execution_count": null,
   "metadata": {},
   "outputs": [],
   "source": [
    "#%run ../analysis/analyze_distance_matrix.py \\\n",
    "#-option show-distance-matrix \\\n",
    "#-v spe11a \\\n",
    "#-o output/spe11a \\\n",
    "#-g TetraTech OPM4 Pau-Inria IFPEN"
   ]
  },
  {
   "cell_type": "markdown",
   "metadata": {},
   "source": [
    "## Extracting single distances\n",
    "We can extract single pairwise distances through the option `-option print-distances` together with a selection of groups thorugh `-g`. By the repeated use of `-g`, we can also specify a partitioning and only ask for the comparison within these groupings.\n",
    "\n",
    "### Example analysis: Different groups using same simulators\n",
    "As an example we analyze the base case submissions based on OPM  (`CAU-Kiel` and `OPM1`) as well as those based on SLB-IX (`CTC-CNE`, `SLB1`, `SLB2`, `TetraTech`, `UT-CSEE1`)."
   ]
  },
  {
   "cell_type": "code",
   "execution_count": null,
   "metadata": {},
   "outputs": [],
   "source": [
    "%run ../analysis/analyze_distance_matrix.py \\\n",
    "-option print-distances \\\n",
    "-v spe11a \\\n",
    "-o output/spe11a \\\n",
    "-g CAU-Kiel OPM1 \\\n",
    "-g CTC-CNE SLB2 UT-CSEE1 \\\n",
    "-g SLB1 SLB2"
   ]
  },
  {
   "cell_type": "markdown",
   "metadata": {},
   "source": [
    "### Example analysis: Mesh refinement\n",
    "We also compare spedific distances between some groups using refined meshes."
   ]
  },
  {
   "cell_type": "code",
   "execution_count": null,
   "metadata": {},
   "outputs": [],
   "source": [
    "%run ../analysis/analyze_distance_matrix.py \\\n",
    "-option print-distances \\\n",
    "-v spe11a \\\n",
    "-o output/spe11a \\\n",
    "-g GEOS1 GEOS2 \\\n",
    "-g OPM1 OPM4 \\\n",
    "-g GEOS2 OPM4"
   ]
  },
  {
   "cell_type": "markdown",
   "metadata": {},
   "source": [
    "### Example analysis: Unstructured grids.\n",
    "We compare submissions using different grid types."
   ]
  },
  {
   "cell_type": "code",
   "execution_count": null,
   "metadata": {},
   "outputs": [],
   "source": [
    "%run ../analysis/analyze_distance_matrix.py \\\n",
    "-option print-distances \\\n",
    "-v spe11a \\\n",
    "-o output/spe11a \\\n",
    "-g OPM1 OPM3"
   ]
  },
  {
   "cell_type": "markdown",
   "metadata": {},
   "source": [
    "## Medians and correlations\n",
    "The SPE11 distance uses scalings for each considered reporting quantity. It is essentially based on a median value of the distances of each type of quantity. Then the total SPE11 distance agglomerates the single distances, resulting in the natural question how well the single distances correlate to the global distance. The Pearson correlation coefficient (PCC) offers a quantitative measure. As part of the computation of the SPE11 distance, these statistics are recorded in the output folder as `spe11a_statistics.csv`"
   ]
  },
  {
   "cell_type": "code",
   "execution_count": null,
   "metadata": {},
   "outputs": [],
   "source": [
    "import pandas as pd\n",
    "df = pd.read_csv('output/spe11a/spe11a_statistics.csv')\n",
    "df"
   ]
  },
  {
   "cell_type": "markdown",
   "metadata": {},
   "source": [
    "## Visualization of clustering\n",
    "The distance matrix provides means for linkage clustering vilsualized by a dendrogram. Using the option `-option show-clustering` the dendrogram is displayed and stored to file."
   ]
  },
  {
   "cell_type": "code",
   "execution_count": null,
   "metadata": {},
   "outputs": [],
   "source": [
    "%run ../analysis/analyze_distance_matrix.py \\\n",
    "-option show-clustering \\\n",
    "-v spe11a \\\n",
    "-o output/spe11a"
   ]
  },
  {
   "cell_type": "markdown",
   "metadata": {},
   "source": [
    "# Finding the smallest mean distance (median result)\n",
    "We define the median submission to be the submission with lowest average mean to all other submissions. For this we call the script `analyze_distance_matrix` and specify the option `-option find-min-mean-distance`. We can make a selection of groups selected for the analysis using `-g`."
   ]
  },
  {
   "cell_type": "code",
   "execution_count": null,
   "metadata": {},
   "outputs": [],
   "source": [
    "%run ../analysis/analyze_distance_matrix.py \\\n",
    "-option find-min-mean-distance \\\n",
    "-v spe11a \\\n",
    "-o output/spe11a \\\n",
    "-g Calgary CAU-Kiel CSIRO1 CSIRO2 CTC-CNE GEOS1 GEOS2 \\\n",
    "   IFPEN OpenGoSim OPM1 OPM2 OPM3 OPM4 Pau-Inria PFLOTRAN \\\n",
    "   SLB1 SLB2 TetraTech UT-CSEE1 UT-CSEE2 UT-CSEE3"
   ]
  },
  {
   "cell_type": "markdown",
   "metadata": {},
   "source": [
    "## Finding the smallest pair-wise distance\n",
    "By using the option `-option find-min-distance`, we can search for the smallest distance between two distinct submissions among the provided groups. Again, we can restrict the analysis to a subset using `-g`."
   ]
  },
  {
   "cell_type": "code",
   "execution_count": null,
   "metadata": {},
   "outputs": [],
   "source": [
    "%run ../analysis/analyze_distance_matrix.py \\\n",
    "-option find-min-distance \\\n",
    "-v spe11a \\\n",
    "-o output/spe11a \\\n",
    "-g Calgary CAU-Kiel CSIRO1 CSIRO2 CTC-CNE GEOS1 GEOS2 \\\n",
    "   IFPEN OpenGoSim OPM1 OPM2 OPM3 OPM4 Pau-Inria PFLOTRAN \\\n",
    "   SLB1 SLB2 TetraTech UT-CSEE1 UT-CSEE2 UT-CSEE3"
   ]
  },
  {
   "cell_type": "markdown",
   "metadata": {},
   "source": [
    "## Finding the smallest group-wise distance\n",
    "By adding multiple groups through repeated use of `-g`, one introduces a collection of subgroups. For the option `-option find-min-distance`, the use of multiple subgroups, allows for excluding group-intern comparisons within the single selections. Using this, one can analyze e.g. the smallest distance between submissions from different groups."
   ]
  },
  {
   "cell_type": "code",
   "execution_count": null,
   "metadata": {},
   "outputs": [],
   "source": [
    "%run ../analysis/analyze_distance_matrix.py \\\n",
    "-option find-min-distance \\\n",
    "-v spe11a \\\n",
    "-o output/spe11a \\\n",
    "-g Calgary \\\n",
    "-g CAU-Kiel \\\n",
    "-g CSIRO1 CSIRO2 \\\n",
    "-g CTC-CNE \\\n",
    "-g GEOS1 GEOS2 \\\n",
    "-g IFPEN \\\n",
    "-g OpenGoSim \\\n",
    "-g OPM1 OPM2 OPM3 OPM4 \\\n",
    "-g Pau-Inria \\\n",
    "-g PFLOTRAN \\\n",
    "-g SLB1 SLB2 \\\n",
    "-g TetraTech \\\n",
    "-g UT-CSEE1 UT-CSEE2 UT-CSEE3"
   ]
  },
  {
   "cell_type": "markdown",
   "metadata": {},
   "source": [
    "# Variability analysis (all submissions)\n",
    "\n",
    "We can compute the variability in a single group. For this, we specify the group through `-g`. For example, we can compute the overall variability."
   ]
  },
  {
   "cell_type": "code",
   "execution_count": null,
   "metadata": {},
   "outputs": [],
   "source": [
    "%run ../analysis/variability_analysis.py \\\n",
    "-v spe11a \\\n",
    "-o output/spe11a \\\n",
    "-g Calgary CAU-Kiel CSIRO1 CSIRO2 CTC-CNE GEOS1 GEOS2 \\\n",
    "   IFPEN OpenGoSim OPM1 OPM2 OPM3 OPM4 Pau-Inria PFLOTRAN \\\n",
    "   SLB1 SLB2 TetraTech UT-CSEE1 UT-CSEE2 UT-CSEE3"
   ]
  },
  {
   "cell_type": "markdown",
   "metadata": {},
   "source": [
    "Similarly, we can ask for the baseline variability. For this, we need to specify the baseline group as input. For SPE11A, these are `Calgary`, `CAU-Kiel`, `CSIRO2`, `CTC-CNE`, `GEOS1`, `IFPEN`, `OpenGoSim1`, `OPM1`, `PFLOTRAN`, `SLB1`, `SLB2`, `Tetratech`, `UT-CSEE1`, `UT-CSEE2`, `UT-CSEE3`."
   ]
  },
  {
   "cell_type": "code",
   "execution_count": null,
   "metadata": {},
   "outputs": [],
   "source": [
    "%run ../analysis/variability_analysis.py \\\n",
    "-v spe11a \\\n",
    "-o output/spe11a \\\n",
    "-g Calgary CAU-Kiel CSIRO2 CTC-CNE GEOS1 IFPEN OpenGoSim OPM1 \\\n",
    "PFLOTRAN SLB1 SLB2 TetraTech UT-CSEE1 UT-CSEE2 UT-CSEE3"
   ]
  },
  {
   "cell_type": "markdown",
   "metadata": {},
   "source": [
    "# Statistical analysis (comparison of variability)\n",
    "\n",
    "## Baseline variability vs. overall variability\n",
    "\n",
    "We can compute p-values of null-hypotheses comparing the variability of two groups, quantifying the statistical significance. E.g. we analyze whether the base case group has smaller variability than the overall variability. For this, we specify `-g-smaller` and `g-greater`, here being the base case group and all groups, respectively. "
   ]
  },
  {
   "cell_type": "code",
   "execution_count": null,
   "metadata": {},
   "outputs": [],
   "source": [
    "%run ../analysis/variability_analysis.py \\\n",
    "-v spe11a \\\n",
    "-o output/spe11a \\\n",
    "-g-smaller Calgary CAU-Kiel CSIRO2 CTC-CNE GEOS1 IFPEN \\\n",
    "OpenGoSim OPM1 PFLOTRAN SLB1 SLB2 TetraTech UT-CSEE1 UT-CSEE2 UT-CSEE3 \\\n",
    "-g-greater Calgary CAU-Kiel CSIRO1 CSIRO2 CTC-CNE GEOS1 GEOS2 \\\n",
    "IFPEN OpenGoSim OPM1 OPM2 OPM3 OPM4 Pau-Inria PFLOTRAN SLB1 SLB2 \\\n",
    "TetraTech UT-CSEE1 UT-CSEE2 UT-CSEE3"
   ]
  },
  {
   "cell_type": "markdown",
   "metadata": {},
   "source": [
    "## Commercial vs. academic/open-source simulators\n",
    "Similarly, we can compute the p-value of the comparison of commercial and academic/open-source against all base case groups. \n",
    "\n",
    "The commercial group is given by: `CTC-CNE`, `SLB1`, `SLB2`,`UT-CSEE1`, `UT-CSEE2`, `UT-CSEE3`."
   ]
  },
  {
   "cell_type": "code",
   "execution_count": null,
   "metadata": {},
   "outputs": [],
   "source": [
    "%run ../analysis/variability_analysis.py \\\n",
    "-v spe11a \\\n",
    "-o output/spe11a \\\n",
    "-g-smaller CTC-CNE SLB1 SLB2 UT-CSEE1 UT-CSEE2 UT-CSEE3 \\\n",
    "-g-greater Calgary CAU-Kiel CSIRO2 CTC-CNE GEOS1 IFPEN OpenGoSim OPM1 \\\n",
    "PFLOTRAN SLB1 SLB2 TetraTech UT-CSEE1 UT-CSEE2 UT-CSEE3"
   ]
  },
  {
   "cell_type": "markdown",
   "metadata": {},
   "source": [
    "The academic/open-source group is given by: `Calgary`, `CAU-Kiel`, `CSIRO2`, `GEOS1`, `IFPEN`, `OpenGoSim`, `OPM1`, `PFLOTRAN`, `TetraTech`."
   ]
  },
  {
   "cell_type": "code",
   "execution_count": null,
   "metadata": {},
   "outputs": [],
   "source": [
    "%run ../analysis/variability_analysis.py \\\n",
    "-v spe11a \\\n",
    "-o output/spe11a \\\n",
    "-g-smaller Calgary CAU-Kiel CSIRO2 GEOS1 IFPEN OpenGoSim OPM1 \\\n",
    "   PFLOTRAN TetraTech \\\n",
    "-g-greater Calgary CAU-Kiel CSIRO2 CTC-CNE GEOS1 IFPEN OpenGoSim OPM1 \\\n",
    "   PFLOTRAN SLB1 SLB2 TetraTech UT-CSEE1 UT-CSEE2 UT-CSEE3"
   ]
  },
  {
   "cell_type": "markdown",
   "metadata": {},
   "source": [
    "Thus, we conclude statistical significance for that the academic simulators show a lower variability than the baseline variability.\n",
    "\n",
    "# Multiple subsets\n",
    "\n",
    "We can use the same tools to analyze variability differences for multiple subsets. By multiple use of `-g`, subsets of groups can be defined to consider only their pair-wise distances, still merged with other pair-wise distances. "
   ]
  },
  {
   "cell_type": "markdown",
   "metadata": {},
   "source": [
    "### Example analysis: Different groups using the same simulator\n",
    "We revist the analysis of the groups using the same simulators (OPM and SLB-IX), now in the light of a variability analysis."
   ]
  },
  {
   "cell_type": "code",
   "execution_count": null,
   "metadata": {},
   "outputs": [],
   "source": [
    "%run ../analysis/variability_analysis.py \\\n",
    "-v spe11a \\\n",
    "-o output/spe11a \\\n",
    "-g-smaller CAU-Kiel OPM1 \\\n",
    "-g-smaller CTC-CNE SLB2 UT-CSEE1 UT-CSEE2 UT-CSEE3 \\\n",
    "-g-greater Calgary CAU-Kiel CSIRO2 CTC-CNE GEOS1 IFPEN OpenGoSim OPM1 \\\n",
    "PFLOTRAN SLB1 SLB2 TetraTech UT-CSEE1 UT-CSEE2 UT-CSEE3"
   ]
  }
 ],
 "metadata": {
  "kernelspec": {
   "display_name": "Python 3 (ipykernel)",
   "language": "python",
   "name": "python3"
  },
  "language_info": {
   "codemirror_mode": {
    "name": "ipython",
    "version": 3
   },
   "file_extension": ".py",
   "mimetype": "text/x-python",
   "name": "python",
   "nbconvert_exporter": "python",
   "pygments_lexer": "ipython3",
   "version": "3.10.16"
  }
 },
 "nbformat": 4,
 "nbformat_minor": 4
}
