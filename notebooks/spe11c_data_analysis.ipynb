{
 "cells": [
  {
   "cell_type": "markdown",
   "metadata": {},
   "source": [
    "# Data analysis for CSP 11C\n",
    "\n",
    "Available results: `Calgary CAU-Kiel CSIRO CTC-CNE GEOS1 GEOS2 IFPEN OpenGoSim1 OpenGoSim2 OPM1 OPM2 OPM3 OPM4 Pau-Inria PFLOTRAN SINTEF1 SINTEF2 SINTEF3 SLB TetraTech1 TetraTech2 UT-CSEE`."
   ]
  },
  {
   "cell_type": "markdown",
   "metadata": {},
   "source": [
    "## Computing the SPE11 distance\n",
    "\n",
    "Run the data analysis and compute the SPE11 distance between all selected results.\n",
    "With the `-g` option, sparse data are selected as submitted by the respective\n",
    "participants, where `-f` specifies the corresponding folder for all results.\n",
    "Alternatively, the `-c` options take, for selected quantities, values\n",
    "post-processed from the submitted dense data that reside in the folder\n",
    "specified by `-t`, particularly, `-cAB` related to Boxes A and B (imm/mob data),\n",
    "`-cSealA` and `-cSealB` separately for Boxes A and B (seal data), `-cC` related to Box C.\n",
    "\n",
    "The results can be displayed and stored in the output folder, defined by the `-o` option. This includes a distance matrix which will be used for further detailed analysis below."
   ]
  },
  {
   "cell_type": "code",
   "execution_count": null,
   "metadata": {},
   "outputs": [],
   "source": [
    "%matplotlib inline\n",
    "%run ../analysis/compute_spe11_distance.py \\\n",
    "-v spe11c \\\n",
    "-f ../shared_folder/data/spe11c \\\n",
    "-t ../shared_folder/evaluation \\\n",
    "-o output/spe11c \\\n",
    "-g Calgary CAU-Kiel CSIRO CTC-CNE GEOS1 GEOS2 \\\n",
    "   IFPEN OpenGoSim1 OpenGoSim2 OPM1 OPM2 OPM3 OPM4 \\\n",
    "   Pau-Inria PFLOTRAN SINTEF1 SINTEF2 SINTEF3 \\\n",
    "   SLB TetraTech1 TetraTech2 UT-CSEE \\\n",
    "-cAB Calgary CTC-CNE OpenGoSim1 OpenGoSim2 \\\n",
    "-cSealA Calgary PFLOTRAN \\\n",
    "-cSealB Calgary PFLOTRAN \\\n",
    "-cC Calgary CAU-Kiel CTC-CNE Pau-Inria PFLOTRAN SINTEF1 SINTEF2 SINTEF3 SLB \\\n",
    "-cBCO2 PFLOTRAN"
   ]
  },
  {
   "cell_type": "markdown",
   "metadata": {},
   "source": [
    "## Inspecting the distance matrix\n",
    "The above computation has stored the distance matrix to file `output/spe11c/spe11c_distance_matrix.csv`. We can fetch and display it."
   ]
  },
  {
   "cell_type": "code",
   "execution_count": null,
   "metadata": {},
   "outputs": [],
   "source": [
    "import pandas as pd\n",
    "df = pd.read_csv('output/spe11c/spe11c_distance_matrix.csv', index_col=0)\n",
    "\n",
    "# Uncomment for a quick look at the distance matrix\n",
    "#df"
   ]
  },
  {
   "cell_type": "markdown",
   "metadata": {},
   "source": [
    "The script `analyze_distance_matrix` offers further tools for inspection, including visualization, but also determining minimal values.\n",
    "\n",
    "We start with visualizing the full distance matrix. For this, provide the option `-option show-distance-matrix`."
   ]
  },
  {
   "cell_type": "code",
   "execution_count": null,
   "metadata": {},
   "outputs": [],
   "source": [
    "%run ../analysis/analyze_distance_matrix.py \\\n",
    "-option show-distance-matrix \\\n",
    "-v spe11c \\\n",
    "-o output/spe11c"
   ]
  },
  {
   "cell_type": "markdown",
   "metadata": {},
   "source": [
    "The respective image of the distance matrix is printed to file `output/spe11c/spe11c_distance_matrix.png`.\n",
    "\n",
    "By specifying single groups through `-g`, one can extract a subset of the distance matrix for closer inspection.  NOTE: The next code block overwrites the image."
   ]
  },
  {
   "cell_type": "code",
   "execution_count": null,
   "metadata": {},
   "outputs": [],
   "source": [
    "#%run ../analysis/analyze_distance_matrix.py \\\n",
    "#-option show-distance-matrix \\\n",
    "#-v spe11c \\\n",
    "#-o output/spe11c \\\n",
    "#-g GEOS2 OpenGoSim1 OPM4 SINTEF3"
   ]
  },
  {
   "cell_type": "markdown",
   "metadata": {},
   "source": [
    "## Extracting single distances\n",
    "We can extract single pairwise distances through the option `-option print-distances` together with a selection of groups thorugh `-g`.\n",
    "\n",
    "### Example analysis: Different groups using the same simulator / Same groups using different simulators\n",
    "E.g. we can inspect the use of OPM Flow and SLB IX by different groups, in constrast to same groups using different simulators."
   ]
  },
  {
   "cell_type": "code",
   "execution_count": null,
   "metadata": {},
   "outputs": [],
   "source": [
    "%run ../analysis/analyze_distance_matrix.py \\\n",
    "-option print-distances \\\n",
    "-v spe11c \\\n",
    "-o output/spe11c \\\n",
    "-g OPM1 CAU-Kiel \\\n",
    "-g CTC-CNE SLB \\\n",
    "-g TetraTech1 TetraTech2"
   ]
  },
  {
   "cell_type": "markdown",
   "metadata": {},
   "source": [
    "### Example analysis: Mesh refinement\n",
    "We can also inspect the effect of grid refinement, studied by single groups."
   ]
  },
  {
   "cell_type": "code",
   "execution_count": null,
   "metadata": {},
   "outputs": [],
   "source": [
    "%run ../analysis/analyze_distance_matrix.py \\\n",
    "-option print-distances \\\n",
    "-v spe11c \\\n",
    "-o output/spe11c \\\n",
    "-g GEOS1 GEOS2 \\\n",
    "-g OpenGoSim1 OpenGoSim2 \\\n",
    "-g GEOS2 OpenGoSim2"
   ]
  },
  {
   "cell_type": "markdown",
   "metadata": {},
   "source": [
    "## Medians and correlations\n",
    "The SPE11 distance uses scalings for each considered reporting quantity. It is essentially based on a median value of the distances of each type of quantity. Then the total SPE11 distance agglomerates the single distances, resulting in the natural question how well the single distances correlate to the global distance. The Pearson correlation coefficient (PCC) offers a quantitative measure. As part of the computation of the SPE11 distance, these statistics are recorded in the output folder as `spe11b_statistics.csv`"
   ]
  },
  {
   "cell_type": "code",
   "execution_count": null,
   "metadata": {},
   "outputs": [],
   "source": [
    "import pandas as pd\n",
    "df = pd.read_csv('output/spe11c/spe11c_statistics.csv')\n",
    "df"
   ]
  },
  {
   "cell_type": "markdown",
   "metadata": {},
   "source": [
    "## Visualization of clustering\n",
    "The distance matrix provides means for linkage clustering vilsualized by a dendrogram. Using the option `-option show-clustering` the dendrogram is displayed and stored to file."
   ]
  },
  {
   "cell_type": "code",
   "execution_count": null,
   "metadata": {},
   "outputs": [],
   "source": [
    "%run ../analysis/analyze_distance_matrix.py \\\n",
    "-option show-clustering \\\n",
    "-v spe11c \\\n",
    "-o output/spe11c"
   ]
  },
  {
   "cell_type": "markdown",
   "metadata": {},
   "source": [
    "# Finding the smallest mean distance (median result)\n",
    "We define the median submission to be the submission with lowest average mean to all other submissions. For this we call the script `analyze_distance_matrix` and specify the option `-option find-min-mean-distance`. We can make a selection of groups selected for the analysis using `-g`."
   ]
  },
  {
   "cell_type": "code",
   "execution_count": null,
   "metadata": {},
   "outputs": [],
   "source": [
    "%run ../analysis/analyze_distance_matrix.py \\\n",
    "-option find-min-mean-distance \\\n",
    "-v spe11c \\\n",
    "-o output/spe11c \\\n",
    "-g Calgary CAU-Kiel CSIRO CTC-CNE GEOS1 GEOS2 \\\n",
    "   IFPEN OpenGoSim1 OpenGoSim2 OPM1 OPM2 OPM3 OPM4 \\\n",
    "   Pau-Inria PFLOTRAN SINTEF1 SINTEF2 SINTEF3 SLB \\\n",
    "   TetraTech1 TetraTech2 UT-CSEE"
   ]
  },
  {
   "cell_type": "markdown",
   "metadata": {},
   "source": [
    "## Finding the smallest pair-wise distance\n",
    "By using the option `-option find-min-distance`, we can search for the smallest distance between two distinct submissions among the provided groups. Again, we can restrict the analysis to a subset using `-g`."
   ]
  },
  {
   "cell_type": "code",
   "execution_count": null,
   "metadata": {},
   "outputs": [],
   "source": [
    "%run ../analysis/analyze_distance_matrix.py \\\n",
    "-option find-min-distance \\\n",
    "-v spe11c \\\n",
    "-o output/spe11c \\\n",
    "-g Calgary CAU-Kiel CSIRO CTC-CNE GEOS1 GEOS2 \\\n",
    "   IFPEN OpenGoSim1 OpenGoSim2 OPM1 OPM2 OPM3 OPM4 \\\n",
    "   Pau-Inria PFLOTRAN SINTEF1 SINTEF2 SINTEF3 SLB \\\n",
    "   TetraTech1 TetraTech2 UT-CSEE"
   ]
  },
  {
   "cell_type": "markdown",
   "metadata": {},
   "source": [
    "## Finding the smallest group-wise distance\n",
    "By adding multiple groups through repeated use of `-g`, one introduces a collection of subgroups. For the option `-option find-min-distance`, the use of multiple subgroups, allows for excluding group-intern comparisons within the single selections. Using this, one can analyze e.g. the smallest distance between submissions from different groups."
   ]
  },
  {
   "cell_type": "code",
   "execution_count": null,
   "metadata": {},
   "outputs": [],
   "source": [
    "%run ../analysis/analyze_distance_matrix.py \\\n",
    "-option find-min-distance \\\n",
    "-v spe11c \\\n",
    "-o output/spe11c \\\n",
    "-g Calgary \\\n",
    "-g CAU-Kiel \\\n",
    "-g CSIRO \\\n",
    "-g CTC-CNE \\\n",
    "-g GEOS1 GEOS2 \\\n",
    "-g IFPEN \\\n",
    "-g OpenGoSim1 OpenGoSim2 \\\n",
    "-g OPM1 OPM2 OPM3 OPM4 \\\n",
    "-g Pau-Inria \\\n",
    "-g PFLOTRAN \\\n",
    "-g SINTEF1 SINTEF2 SINTEF3 \\\n",
    "-g SLB \\\n",
    "-g TetraTech1 TetraTech2 \\\n",
    "-g UT-CSEE"
   ]
  },
  {
   "cell_type": "markdown",
   "metadata": {},
   "source": [
    "# Variability analysis (all submissions)\n",
    "\n",
    "We can compute the variability in a single group. For this, we specify the group through `-g`. For example, we can compute the overall variability."
   ]
  },
  {
   "cell_type": "code",
   "execution_count": null,
   "metadata": {},
   "outputs": [],
   "source": [
    "%run ../analysis/variability_analysis.py \\\n",
    "-v spe11c \\\n",
    "-o output/spe11c \\\n",
    "-g Calgary CAU-Kiel CSIRO CTC-CNE GEOS1 GEOS2 \\\n",
    "   IFPEN OpenGoSim1 OpenGoSim2 OPM1 OPM2 OPM3 OPM4 \\\n",
    "   Pau-Inria PFLOTRAN SINTEF1 SINTEF2 SINTEF3 SLB \\\n",
    "   TetraTech1 TetraTech2 UT-CSEE"
   ]
  },
  {
   "cell_type": "markdown",
   "metadata": {},
   "source": [
    "Similarly, we can ask for the baseline variability. For this, we need to specify the baseline group as input. For SPE11B, these are `Calgary`, `CAU-Kiel`, `CSIRO`, `CTC-CNE`, `GEOS1`, `IFPEN`, `OpenGoSim1`, `OPM1`, `Pau-Inria`, `SLB`, `Tetratech1`, `Tetratech2`."
   ]
  },
  {
   "cell_type": "code",
   "execution_count": null,
   "metadata": {},
   "outputs": [],
   "source": [
    "%run ../analysis/variability_analysis.py \\\n",
    "-v spe11c \\\n",
    "-o output/spe11c \\\n",
    "-g Calgary CAU-Kiel CSIRO CTC-CNE GEOS1 IFPEN OpenGoSim1 OPM1 Pau-Inria \\\n",
    "SLB TetraTech1 TetraTech2"
   ]
  },
  {
   "cell_type": "markdown",
   "metadata": {},
   "source": [
    "# Statistical analysis (comparison of variability)\n",
    "\n",
    "## Baseline variability vs. overall variability\n",
    "\n",
    "We can compute p-values of null-hypotheses comparing the variability of two groups, quantifying the statistical significance. E.g. we analyze whether the base case group has smaller variability than the overall variability. For this, we specify `-g-smaller` and `g-greater`, here being the base case group and all groups, respectively. "
   ]
  },
  {
   "cell_type": "code",
   "execution_count": null,
   "metadata": {},
   "outputs": [],
   "source": [
    "%run ../analysis/variability_analysis.py \\\n",
    "-v spe11c \\\n",
    "-o output/spe11c \\\n",
    "-g-smaller Calgary CAU-Kiel CSIRO CTC-CNE GEOS1 IFPEN \\\n",
    "   OpenGoSim1 OPM1 Pau-Inria SLB TetraTech1 TetraTech2 \\\n",
    "-g-greater Calgary CAU-Kiel CSIRO CTC-CNE GEOS1 GEOS2 \\\n",
    "   IFPEN OpenGoSim1 OpenGoSim2 OPM1 OPM2 OPM3 OPM4 \\\n",
    "   Pau-Inria PFLOTRAN SINTEF1 SINTEF2 SINTEF3 SLB \\\n",
    "   TetraTech1 TetraTech2 UT-CSEE"
   ]
  },
  {
   "cell_type": "markdown",
   "metadata": {},
   "source": [
    "## Commercial vs. academic/open-source simulators\n",
    "Similarly, we can copute the p-value of the comparison of commercial and academic/open-source against all base case groups. \n",
    "\n",
    "The commercial group is given by: `CTC-CNE`, `SLB`, `TetraTech2`"
   ]
  },
  {
   "cell_type": "code",
   "execution_count": null,
   "metadata": {},
   "outputs": [],
   "source": [
    "%run ../analysis/variability_analysis.py \\\n",
    "-v spe11c \\\n",
    "-o output/spe11c \\\n",
    "-g-smaller CTC-CNE SLB TetraTech2 \\\n",
    "-g-greater Calgary CAU-Kiel CSIRO CTC-CNE GEOS1 IFPEN \\\n",
    "   OpenGoSim1 OPM1 Pau-Inria SLB TetraTech1 TetraTech2"
   ]
  },
  {
   "cell_type": "markdown",
   "metadata": {},
   "source": [
    "The academic/open-source group is given by: `Calgary`, `CAU-Kiel`, `CSIRO`, `GEOS1`, `IFPEN`, `OpenGoSim`, `OPM1`, `Pau-Inria`, `TetraTech1`."
   ]
  },
  {
   "cell_type": "code",
   "execution_count": null,
   "metadata": {},
   "outputs": [],
   "source": [
    "%run ../analysis/variability_analysis.py \\\n",
    "-v spe11c \\\n",
    "-o output/spe11c \\\n",
    "-g-smaller Calgary CAU-Kiel CSIRO GEOS1 IFPEN OpenGoSim1 \\\n",
    "   OPM1 Pau-Inria TetraTech1 \\\n",
    "-g-greater Calgary CAU-Kiel CSIRO CTC-CNE GEOS1 GEOS2 \\\n",
    "   IFPEN OpenGoSim1 OPM1 Pau-Inria SLB TetraTech1 TetraTech2"
   ]
  }
 ],
 "metadata": {
  "kernelspec": {
   "display_name": "Python 3 (ipykernel)",
   "language": "python",
   "name": "python3"
  },
  "language_info": {
   "codemirror_mode": {
    "name": "ipython",
    "version": 3
   },
   "file_extension": ".py",
   "mimetype": "text/x-python",
   "name": "python",
   "nbconvert_exporter": "python",
   "pygments_lexer": "ipython3",
   "version": "3.10.16"
  }
 },
 "nbformat": 4,
 "nbformat_minor": 4
}
