{
 "cells": [
  {
   "cell_type": "markdown",
   "id": "cc6b9c31-91f3-4278-ae24-498848c2ee4a",
   "metadata": {},
   "source": [
    "# Visualization for CSP 11A\n",
    "\n",
    "Available results: `Calgary CAU-Kiel CSIRO1 CSIRO2 CTC-CNE GEOS1 GEOS2 IFPEN OpenGoSim OPM1 OPM2 OPM3 OPM4 Pau-Inria PFLOTRAN SLB1 SLB2 TetraTech UT-CSEE1 UT-CSEE2 UT-CSEE3`.\n",
    "\n",
    "## Sparse data\n",
    "\n",
    "Run the visualization of the sparse data for selected results.\n",
    "With the `-g` option, sparse data are selected as submitted by the respective\n",
    "participants, where `-f` specifies the corresponding folder for all results.\n",
    "Alternatively, the `-c` option takes, for selected quantities, values\n",
    "post-processed from the submitted dense data that reside in the folder\n",
    "specified by `-t`."
   ]
  },
  {
   "cell_type": "code",
   "execution_count": null,
   "id": "4e9c835a-7d5e-4003-a6e3-961df93f55d7",
   "metadata": {
    "tags": []
   },
   "outputs": [],
   "source": [
    "%matplotlib inline\n",
    "%run ../evaluation/spe11a_assemble_time_series \\\n",
    "-g CAU-Kiel CSIRO1 CSIRO2 GEOS1 GEOS2 IFPEN OPM1 OPM2 OPM3 OPM4 \\\n",
    "   Pau-Inria PFLOTRAN SLB1 SLB2 TetraTech UT-CSEE1 UT-CSEE2 UT-CSEE3 \\\n",
    "-f ~/shared_folder/data \\\n",
    "-c Calgary CTC-CNE OpenGoSim \\\n",
    "-t ~/shared_folder/evaluation/spe11a/sparse"
   ]
  },
  {
   "cell_type": "markdown",
   "id": "01655635-3c39-4eb4-9707-6dd5188f2444",
   "metadata": {},
   "source": [
    "## Dense data\n",
    "\n",
    "### Single result\n",
    "\n",
    "Run the visualization of the dense data for a single result at a given time. With the `-g` option, the result is selected, `-f` specifies the corresponding folder, and `-t` gives the time in hours."
   ]
  },
  {
   "cell_type": "code",
   "execution_count": null,
   "id": "445f930a-a3c8-45ab-a115-63be0279fb46",
   "metadata": {
    "tags": []
   },
   "outputs": [],
   "source": [
    "%matplotlib inline\n",
    "%run ../evaluation/spe11a_visualize_spatial_maps -g IFPEN -f ~/shared_folder/data -t 20"
   ]
  },
  {
   "cell_type": "markdown",
   "id": "f312c732-f047-4cce-bfc1-cad95141d581",
   "metadata": {},
   "source": [
    "### Multiple results\n",
    "\n",
    "Run the visualization of the dense data for several results at a given time. With the `-g` option, the results are selected, `-f` specifies the corresponding folder for all results, and `-t` gives the time in hours."
   ]
  },
  {
   "cell_type": "code",
   "execution_count": null,
   "id": "698aad2b-8698-4382-9db8-2ab3c83bcd3c",
   "metadata": {
    "tags": []
   },
   "outputs": [],
   "source": [
    "%matplotlib inline\n",
    "%run ../evaluation/spe11a_visualize_spatial_maps \\\n",
    "-g Calgary CAU-Kiel CSIRO1 CSIRO2 CTC-CNE GEOS1 GEOS2 IFPEN OpenGoSim OPM1 OPM2 \\\n",
    "   OPM3 OPM4 Pau-Inria PFLOTRAN SLB1 SLB2 TetraTech UT-CSEE1 UT-CSEE2 UT-CSEE3 \\\n",
    "-f ~/shared_folder/data \\\n",
    "-t 20"
   ]
  },
  {
   "cell_type": "markdown",
   "id": "21353426-4483-4f4a-b7fb-614aa531a47d",
   "metadata": {},
   "source": [
    "## Performance data\n",
    "\n",
    "### Sparse\n",
    "\n",
    "Generate plots for the submitted sparse performance data."
   ]
  },
  {
   "cell_type": "code",
   "execution_count": null,
   "id": "4e2621cf-34c4-4e5f-8a38-30b7dce56a9e",
   "metadata": {
    "tags": []
   },
   "outputs": [],
   "source": [
    "%matplotlib inline\n",
    "%run ../evaluation/spe11a_assemble_performance_time_series \\\n",
    "-g CAU-Kiel CSIRO1 CSIRO2 CTC-CNE IFPEN OPM1 OPM2 OPM3 OPM4 Pau-Inria UT-CSEE1 UT-CSEE2 UT-CSEE3 \\\n",
    "-f ~/shared_folder/data"
   ]
  },
  {
   "cell_type": "markdown",
   "id": "36ccc334-912d-42c6-a2da-011eadaf1116",
   "metadata": {},
   "source": [
    "### Dense\n",
    "\n",
    "Visualize the dense performance data for a *single* result at a given time."
   ]
  },
  {
   "cell_type": "code",
   "execution_count": null,
   "id": "31aa6a53-0c0c-48f5-8387-8447889cb0b4",
   "metadata": {
    "tags": []
   },
   "outputs": [],
   "source": [
    "%matplotlib inline\n",
    "%run ../evaluation/spe11a_visualize_performance_spatial_maps -g OPM1 -f ~/shared_folder/data -t 20"
   ]
  },
  {
   "cell_type": "markdown",
   "id": "b2645156-c357-4da5-86eb-a25a26ee9000",
   "metadata": {},
   "source": [
    "Visualize the dense performance data for *multiple* result at a given time."
   ]
  },
  {
   "cell_type": "code",
   "execution_count": null,
   "id": "80bf2182-42c2-4037-8f4e-4f21bf5e7fdb",
   "metadata": {
    "tags": []
   },
   "outputs": [],
   "source": [
    "%matplotlib inline\n",
    "%run ../evaluation/spe11a_visualize_performance_spatial_maps \\\n",
    "-g CSIRO1 CSIRO2 OPM1 OPM2 OPM3 OPM4 -f ~/shared_folder/data -t 20"
   ]
  }
 ],
 "metadata": {
  "kernelspec": {
   "display_name": "Python 3.7.17 64-bit ('3.7.17')",
   "language": "python",
   "name": "python3"
  },
  "language_info": {
   "codemirror_mode": {
    "name": "ipython",
    "version": 3
   },
   "file_extension": ".py",
   "mimetype": "text/x-python",
   "name": "python",
   "nbconvert_exporter": "python",
   "pygments_lexer": "ipython3",
   "version": "3.7.17"
  },
  "vscode": {
   "interpreter": {
    "hash": "bbbf333f8208f2470b0e513bb8adfdaa77389976362aab5b4cc9f1b3252971a6"
   }
  }
 },
 "nbformat": 4,
 "nbformat_minor": 5
}
