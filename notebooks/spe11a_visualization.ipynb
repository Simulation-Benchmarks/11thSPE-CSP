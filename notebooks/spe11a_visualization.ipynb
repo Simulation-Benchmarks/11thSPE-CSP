{
 "cells": [
  {
   "cell_type": "markdown",
   "id": "cc6b9c31-91f3-4278-ae24-498848c2ee4a",
   "metadata": {},
   "source": [
    "# Visualization for CSP 11A\n",
    "\n",
    "Available results: `calgary cau-kiel csiro1 csiro2 ctc-cne geos1 geos2 ifpen opengosim opm1 opm2 opm3 opm4 pau-inria pflotran slb1 slb2 tetratech ut-csee1 ut-csee2 ut-csee3`.\n",
    "\n",
    "## Sparse data\n",
    "\n",
    "Run the visualization of the sparse data for selected results.\n",
    "With the `-g` option, sparse data are selected as submitted by the respective\n",
    "participants, where `-f` specifies the corresponding folder for all results.\n",
    "Alternatively, the `-c` option takes, for selected quantities, values\n",
    "post-processed from the submitted dense data that reside in the folder\n",
    "specified by `-t`."
   ]
  },
  {
   "cell_type": "code",
   "execution_count": null,
   "id": "4e9c835a-7d5e-4003-a6e3-961df93f55d7",
   "metadata": {
    "tags": []
   },
   "outputs": [],
   "source": [
    "%matplotlib inline\n",
    "%run ../evaluation/spe11a_assemble_time_series \\\n",
    "-g cau-kiel csiro1 csiro2 geos1 geos2 ifpen opm1 opm2 opm3 opm4 \\\n",
    "   pau-inria pflotran slb1 slb2 tetratech ut-csee1 ut-csee2 ut-csee3 \\\n",
    "-f ~/shared_folder/data \\\n",
    "-c calgary ctc-cne opengosim \\\n",
    "-t ~/shared_folder/evaluation/spe11a/sparse"
   ]
  },
  {
   "cell_type": "markdown",
   "id": "01655635-3c39-4eb4-9707-6dd5188f2444",
   "metadata": {},
   "source": [
    "## Dense data\n",
    "\n",
    "### Single result\n",
    "\n",
    "Run the visualization of the dense data for a single result at a given time. With the `-g` option, the result is selected, `-f` specifies the corresponding folder, and `-t` gives the time in hours."
   ]
  },
  {
   "cell_type": "code",
   "execution_count": null,
   "id": "445f930a-a3c8-45ab-a115-63be0279fb46",
   "metadata": {
    "tags": []
   },
   "outputs": [],
   "source": [
    "%matplotlib inline\n",
    "%run ../evaluation/spe11a_visualize_spatial_maps -g ifpen -f ~/shared_folder/data -t 20"
   ]
  },
  {
   "cell_type": "markdown",
   "id": "f312c732-f047-4cce-bfc1-cad95141d581",
   "metadata": {},
   "source": [
    "### Multiple results\n",
    "\n",
    "Run the visualization of the dense data for several results at a given time. With the `-g` option, the results are selected, `-f` specifies the corresponding folder for all results, and `-t` gives the time in hours."
   ]
  },
  {
   "cell_type": "code",
   "execution_count": null,
   "id": "698aad2b-8698-4382-9db8-2ab3c83bcd3c",
   "metadata": {
    "tags": []
   },
   "outputs": [],
   "source": [
    "%matplotlib inline\n",
    "%run ../evaluation/spe11a_visualize_spatial_maps \\\n",
    "-g calgary cau-kiel csiro1 csiro2 ctc-cne geos1 geos2 ifpen opengosim opm1 opm2 \\\n",
    "   opm3 opm4 pau-inria pflotran slb1 slb2 tetratech ut-csee1 ut-csee2 ut-csee3 \\\n",
    "-f ~/shared_folder/data \\\n",
    "-t 20"
   ]
  },
  {
   "cell_type": "markdown",
   "id": "21353426-4483-4f4a-b7fb-614aa531a47d",
   "metadata": {},
   "source": [
    "## Performance data\n",
    "\n",
    "### Sparse\n",
    "\n",
    "Generate plots for the submitted sparse performance data."
   ]
  },
  {
   "cell_type": "code",
   "execution_count": null,
   "id": "4e2621cf-34c4-4e5f-8a38-30b7dce56a9e",
   "metadata": {
    "tags": []
   },
   "outputs": [],
   "source": [
    "%matplotlib inline\n",
    "%run ../evaluation/spe11a_assemble_performance_time_series \\\n",
    "-g cau-kiel csiro1 csiro2 ctc-cne ifpen opm1 opm2 opm3 opm4 pau-inria ut-csee1 ut-csee2 ut-csee3 \\\n",
    "-f ~/shared_folder/data"
   ]
  },
  {
   "cell_type": "markdown",
   "id": "f9ca1aaf-0ce0-4d9f-8000-cbc22738dad2",
   "metadata": {},
   "source": [
    "Generate plots for the submitted *detailed* sparse performance data (note the option `-d`)."
   ]
  },
  {
   "cell_type": "code",
   "execution_count": null,
   "id": "a9212dcb-deef-45fd-b9c3-265bbb101c1a",
   "metadata": {
    "tags": []
   },
   "outputs": [],
   "source": [
    "%matplotlib inline\n",
    "%run ../evaluation/spe11a_assemble_performance_time_series \\\n",
    "-g cau-kiel csiro1 csiro2 ifpen opm1 opm2 opm3 opm4 -f ~/shared_folder/data -d"
   ]
  },
  {
   "cell_type": "markdown",
   "id": "36ccc334-912d-42c6-a2da-011eadaf1116",
   "metadata": {},
   "source": [
    "### Dense\n",
    "\n",
    "Visualize the dense performance data for a *single* result at a given time."
   ]
  },
  {
   "cell_type": "code",
   "execution_count": null,
   "id": "31aa6a53-0c0c-48f5-8387-8447889cb0b4",
   "metadata": {
    "tags": []
   },
   "outputs": [],
   "source": [
    "%matplotlib inline\n",
    "%run ../evaluation/spe11a_visualize_performance_spatial_maps -g opm1 -f ~/shared_folder/data -t 20"
   ]
  },
  {
   "cell_type": "markdown",
   "id": "b2645156-c357-4da5-86eb-a25a26ee9000",
   "metadata": {},
   "source": [
    "Visualize the dense performance data for *multiple* result at a given time."
   ]
  },
  {
   "cell_type": "code",
   "execution_count": null,
   "id": "80bf2182-42c2-4037-8f4e-4f21bf5e7fdb",
   "metadata": {
    "tags": []
   },
   "outputs": [],
   "source": [
    "%matplotlib inline\n",
    "%run ../evaluation/spe11a_visualize_performance_spatial_maps \\\n",
    "-g csiro1 csiro2 opm1 opm2 opm3 opm4 -f ~/shared_folder/data -t 20"
   ]
  }
 ],
 "metadata": {
  "kernelspec": {
   "display_name": "Python 3 (ipykernel)",
   "language": "python",
   "name": "python3"
  },
  "language_info": {
   "codemirror_mode": {
    "name": "ipython",
    "version": 3
   },
   "file_extension": ".py",
   "mimetype": "text/x-python",
   "name": "python",
   "nbconvert_exporter": "python",
   "pygments_lexer": "ipython3",
   "version": "3.10.12"
  }
 },
 "nbformat": 4,
 "nbformat_minor": 5
}
