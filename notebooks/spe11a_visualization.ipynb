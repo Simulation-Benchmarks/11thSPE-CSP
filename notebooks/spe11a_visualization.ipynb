{
 "cells": [
  {
   "cell_type": "markdown",
   "id": "cc6b9c31-91f3-4278-ae24-498848c2ee4a",
   "metadata": {},
   "source": [
    "# Visualization for CSP 11A\n",
    "\n",
    "## Sparse data\n",
    "\n",
    "The next line runs the visualization of the sparse data for selected results.\n",
    "With the `-g` option, sparse data are selected as submitted by the respective\n",
    "participants, where `-f` specifies the corresponding folder for all results.\n",
    "Alternatively, the `-c` option takes, for selected quantities, values\n",
    "post-processed from the submitted dense data that reside in the folder\n",
    "specified by `-t`."
   ]
  },
  {
   "cell_type": "code",
   "execution_count": null,
   "id": "4e9c835a-7d5e-4003-a6e3-961df93f55d7",
   "metadata": {},
   "outputs": [],
   "source": [
    "%matplotlib inline\n",
    "%run ../evaluation/spe11a_assemble_time_series \\\n",
    "-g cau-kiel csiro1 csiro2 geos1 geos2 ifpen opm1 opm2 opm3 opm4 \\\n",
    "pau-inria pflotran slb1 slb2 tetratech ut-csee1 ut-csee2 ut-csee3 \\\n",
    "-f ~/jupytershared-flemisch/data \\\n",
    "-c calgary ctc-cne opengosim \\\n",
    "-t ~/jupytershared-flemisch/evaluation/spe11a/sparse"
   ]
  }
 ],
 "metadata": {
  "kernelspec": {
   "display_name": "Python 3 (ipykernel)",
   "language": "python",
   "name": "python3"
  },
  "language_info": {
   "codemirror_mode": {
    "name": "ipython",
    "version": 3
   },
   "file_extension": ".py",
   "mimetype": "text/x-python",
   "name": "python",
   "nbconvert_exporter": "python",
   "pygments_lexer": "ipython3",
   "version": "3.11.6"
  }
 },
 "nbformat": 4,
 "nbformat_minor": 5
}
