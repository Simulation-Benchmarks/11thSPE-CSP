{
 "cells": [
  {
   "cell_type": "markdown",
   "id": "19dc9c15-e3b0-44f1-9645-f53462400547",
   "metadata": {
    "tags": []
   },
   "source": [
    "# 11th SPE CSP\n",
    "\n",
    "This collection of Jupyter notebooks gives you access to the results submitted\n",
    "to the [11th Society of Petroleum Engineers Comparative Solution Project](https://spe.org/csp/).\n",
    "It enables you to run scripts for the visualization of the results and provides you possibilities to compare your own results.\n",
    "\n",
    "## CSP 11A\n",
    "\n",
    "* [Visualization of results submitted to the CSP](spe11a_visualization.ipynb)\n",
    "* [Data analysis of results submitted to the CSP](spe11a_data_analysis.ipynb)\n",
    "* [Compare your own results](spe11a_compare_own_result.ipynb)\n",
    "\n",
    "## CSP 11B\n",
    "\n",
    "* [Visualization of results submitted to the CSP](spe11b_visualization.ipynb)\n",
    "* [Data analysis of results submitted to the CSP](spe11b_data_analysis.ipynb)\n",
    "* [Compare your own results](spe11b_compare_own_result.ipynb)\n",
    "\n",
    "## CSP 11C\n",
    "\n",
    "* [Visualization of results submitted to the CSP](spe11c_visualization.ipynb)\n",
    "* [Data analysis of results submitted to the CSP](spe11c_data_analysis.ipynb)\n",
    "* [Compare your own results](spe11c_compare_own_result.ipynb)"
   ]
  }
 ],
 "metadata": {
  "kernelspec": {
   "display_name": "Python 3 (ipykernel)",
   "language": "python",
   "name": "python3"
  },
  "language_info": {
   "codemirror_mode": {
    "name": "ipython",
    "version": 3
   },
   "file_extension": ".py",
   "mimetype": "text/x-python",
   "name": "python",
   "nbconvert_exporter": "python",
   "pygments_lexer": "ipython3",
   "version": "3.10.12"
  }
 },
 "nbformat": 4,
 "nbformat_minor": 5
}
