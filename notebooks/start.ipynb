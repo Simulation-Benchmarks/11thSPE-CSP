{
 "cells": [
  {
   "cell_type": "markdown",
   "id": "19dc9c15-e3b0-44f1-9645-f53462400547",
   "metadata": {},
   "source": [
    "# 11th SPE CSP\n",
    "\n",
    "This collection of Jupyter notebooks gives you access to the results submitted\n",
    "to the [11th Society of Petroleum Engineers Comparative Solution Project](https://spe.org/csp/).\n",
    "It enables you to run scripts for the evaluation and visualization of the results.\n",
    "You are also provided with possibilities to compare your own results.\n",
    "\n",
    "## CSP 11A\n",
    "\n",
    "* [Visualization of results submitted to the CSP](spe11a_visualization.ipynb)\n",
    "* Evaluation of dense data\n",
    "* Compare my own results"
   ]
  },
  {
   "cell_type": "code",
   "execution_count": null,
   "id": "18acc20d-3eb0-40c8-bd1e-76b08f3c0c42",
   "metadata": {},
   "outputs": [],
   "source": []
  }
 ],
 "metadata": {
  "kernelspec": {
   "display_name": "Python 3 (ipykernel)",
   "language": "python",
   "name": "python3"
  },
  "language_info": {
   "codemirror_mode": {
    "name": "ipython",
    "version": 3
   },
   "file_extension": ".py",
   "mimetype": "text/x-python",
   "name": "python",
   "nbconvert_exporter": "python",
   "pygments_lexer": "ipython3",
   "version": "3.11.6"
  }
 },
 "nbformat": 4,
 "nbformat_minor": 5
}
